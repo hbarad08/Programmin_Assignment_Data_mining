{
  "cells": [
    {
      "cell_type": "markdown",
      "metadata": {
        "id": "Hr7SGYEq69wv"
      },
      "source": [
        "# ITCS 6162: Data Mining - Programming Assignment"
      ]
    },
    {
      "cell_type": "markdown",
      "metadata": {
        "id": "L_idzFtE7M_9"
      },
      "source": [
        "**In this assignment, you will explore data analysis, recommendation algorithms, and graph-based techniques using the MovieLens dataset. Your tasks will range from basic data exploration to advanced recommendation models, including:**\n",
        "- Data manipulation with pandas\n",
        "- User-item collaborative filtering\n",
        "- Similarity-based recommendation models\n",
        "- A Pixie-inspired Graph-based recommendation using adjacency lists with weighted random walks (without using NetworkX)\n"
      ]
    },
    {
      "cell_type": "markdown",
      "metadata": {
        "id": "EZxjOF_l79zc"
      },
      "source": [
        "#### **Dataset Files:**\n",
        "- **`u.data`**: User-movie ratings (`user_id  movie_id  rating  timestamp`)\n",
        "- **`u.item`**: Movie metadata (`movie_id | title | release date | IMDB_website`)\n",
        "- **`u.user`**: User demographics (`user_id | age | gender | occupation | zip_code`)"
      ]
    },
    {
      "cell_type": "markdown",
      "metadata": {
        "id": "ytr6isc2F9g6"
      },
      "source": [
        "## **Part 1: Exploring and Cleaning Data**"
      ]
    },
    {
      "cell_type": "markdown",
      "metadata": {
        "id": "87kIrhTC9Ba1"
      },
      "source": [
        "### Inspecting the Dataset Format\n",
        "\n",
        "The dataset is not in a traditional CSV format. To examine its structure, use the following shell command to display the first 10 lines of the file:\n",
        "\n",
        "```sh\n",
        "!head <file_name>\n"
      ]
    },
    {
      "cell_type": "markdown",
      "metadata": {
        "id": "PjOtbBWM9xWv"
      },
      "source": [
        "**In the cells given below. Write the code to read the files.**"
      ]
    },
    {
      "cell_type": "code",
      "execution_count": 30,
      "metadata": {
        "id": "XOoSaKsq68nD"
      },
      "outputs": [],
      "source": [
        "# u.data\n",
        "import pandas as pd\n",
        "\n",
        "ratings = pd.read_csv(\"u.data\", sep='\\t', names=['user_id', 'movie_id', 'rating', 'timestamp'])\n"
      ]
    },
    {
      "cell_type": "code",
      "execution_count": 31,
      "metadata": {
        "id": "dckMko0o9t-D"
      },
      "outputs": [],
      "source": [
        "# u.item\n",
        "movies = pd.read_csv(\"u.item\", sep='|', usecols=[0, 1, 2], encoding=\"latin-1\", names=['movie_id', 'title', 'release_date'])\n"
      ]
    },
    {
      "cell_type": "code",
      "execution_count": 32,
      "metadata": {
        "id": "R7kBwpsi-WKB"
      },
      "outputs": [],
      "source": [
        "# u.user\n",
        "users = pd.read_csv(\"u.user\", sep='|', usecols=[0, 1, 2, 3], names=['user_id', 'age', 'gender', 'occupation'])\n"
      ]
    },
    {
      "cell_type": "markdown",
      "metadata": {
        "id": "YnryIHO7-db3"
      },
      "source": [
        "#### Loading the Dataset with Pandas"
      ]
    },
    {
      "cell_type": "markdown",
      "metadata": {
        "id": "Jwmza7riBj30"
      },
      "source": [
        "Use **pandas** to load the dataset into a DataFrame for analysis. Follow these steps:  \n",
        "\n",
        "1. Import the necessary library: `pandas`.  \n",
        "2. Use `pd.read_csv()` (or an appropriate function) to read the dataset file.  \n",
        "3. Ensure the dataset is loaded with the correct delimiter (e.g., `','`, `'\\t'`,`'|'` , or another separator if needed).  \n",
        "4. Select and display the first few rows using `.head()`."
      ]
    },
    {
      "cell_type": "markdown",
      "metadata": {
        "id": "KPEDYYGOBOSD"
      },
      "source": [
        "Ensure that:  \n",
        "\n",
        "- The `ratings` dataset is read from `\"u.data\"` using tab (`'\\t'`) as a separator and column names (`\"user_id\"`, `\"movie_id\"`, `\"rating\"` and `\"timestamp\"`).  \n",
        "- The `movies` dataset is read from `\"u.item\"` using `'|'` as a separator, use columns (`0`, `1`, `2`), encoding (`\"latin-1\"`) and name the columns (`movie_id`, `title`, and `release_date`).  \n",
        "- The `users` dataset is read from `\"u.user\"` using `'|'` as a separator, use columns (`0`, `1`, `2`, `3`) and name the columns (`user_id`, `age`, `gender`, and `occupation`)."
      ]
    },
    {
      "cell_type": "code",
      "execution_count": 33,
      "metadata": {
        "id": "Go-Y-Ofy-ZTk"
      },
      "outputs": [
        {
          "data": {
            "text/html": [
              "<div>\n",
              "<style scoped>\n",
              "    .dataframe tbody tr th:only-of-type {\n",
              "        vertical-align: middle;\n",
              "    }\n",
              "\n",
              "    .dataframe tbody tr th {\n",
              "        vertical-align: top;\n",
              "    }\n",
              "\n",
              "    .dataframe thead th {\n",
              "        text-align: right;\n",
              "    }\n",
              "</style>\n",
              "<table border=\"1\" class=\"dataframe\">\n",
              "  <thead>\n",
              "    <tr style=\"text-align: right;\">\n",
              "      <th></th>\n",
              "      <th>user_id</th>\n",
              "      <th>movie_id</th>\n",
              "      <th>rating</th>\n",
              "      <th>timestamp</th>\n",
              "    </tr>\n",
              "  </thead>\n",
              "  <tbody>\n",
              "    <tr>\n",
              "      <th>0</th>\n",
              "      <td>196</td>\n",
              "      <td>242</td>\n",
              "      <td>3</td>\n",
              "      <td>881250949</td>\n",
              "    </tr>\n",
              "    <tr>\n",
              "      <th>1</th>\n",
              "      <td>186</td>\n",
              "      <td>302</td>\n",
              "      <td>3</td>\n",
              "      <td>891717742</td>\n",
              "    </tr>\n",
              "    <tr>\n",
              "      <th>2</th>\n",
              "      <td>22</td>\n",
              "      <td>377</td>\n",
              "      <td>1</td>\n",
              "      <td>878887116</td>\n",
              "    </tr>\n",
              "    <tr>\n",
              "      <th>3</th>\n",
              "      <td>244</td>\n",
              "      <td>51</td>\n",
              "      <td>2</td>\n",
              "      <td>880606923</td>\n",
              "    </tr>\n",
              "    <tr>\n",
              "      <th>4</th>\n",
              "      <td>166</td>\n",
              "      <td>346</td>\n",
              "      <td>1</td>\n",
              "      <td>886397596</td>\n",
              "    </tr>\n",
              "  </tbody>\n",
              "</table>\n",
              "</div>"
            ],
            "text/plain": [
              "   user_id  movie_id  rating  timestamp\n",
              "0      196       242       3  881250949\n",
              "1      186       302       3  891717742\n",
              "2       22       377       1  878887116\n",
              "3      244        51       2  880606923\n",
              "4      166       346       1  886397596"
            ]
          },
          "execution_count": 33,
          "metadata": {},
          "output_type": "execute_result"
        }
      ],
      "source": [
        "# ratings\n",
        "ratings.head()\n"
      ]
    },
    {
      "cell_type": "code",
      "execution_count": 34,
      "metadata": {
        "id": "zM8IJGh-CLN5"
      },
      "outputs": [
        {
          "data": {
            "text/html": [
              "<div>\n",
              "<style scoped>\n",
              "    .dataframe tbody tr th:only-of-type {\n",
              "        vertical-align: middle;\n",
              "    }\n",
              "\n",
              "    .dataframe tbody tr th {\n",
              "        vertical-align: top;\n",
              "    }\n",
              "\n",
              "    .dataframe thead th {\n",
              "        text-align: right;\n",
              "    }\n",
              "</style>\n",
              "<table border=\"1\" class=\"dataframe\">\n",
              "  <thead>\n",
              "    <tr style=\"text-align: right;\">\n",
              "      <th></th>\n",
              "      <th>movie_id</th>\n",
              "      <th>title</th>\n",
              "      <th>release_date</th>\n",
              "    </tr>\n",
              "  </thead>\n",
              "  <tbody>\n",
              "    <tr>\n",
              "      <th>0</th>\n",
              "      <td>1</td>\n",
              "      <td>Toy Story (1995)</td>\n",
              "      <td>01-Jan-1995</td>\n",
              "    </tr>\n",
              "    <tr>\n",
              "      <th>1</th>\n",
              "      <td>2</td>\n",
              "      <td>GoldenEye (1995)</td>\n",
              "      <td>01-Jan-1995</td>\n",
              "    </tr>\n",
              "    <tr>\n",
              "      <th>2</th>\n",
              "      <td>3</td>\n",
              "      <td>Four Rooms (1995)</td>\n",
              "      <td>01-Jan-1995</td>\n",
              "    </tr>\n",
              "    <tr>\n",
              "      <th>3</th>\n",
              "      <td>4</td>\n",
              "      <td>Get Shorty (1995)</td>\n",
              "      <td>01-Jan-1995</td>\n",
              "    </tr>\n",
              "    <tr>\n",
              "      <th>4</th>\n",
              "      <td>5</td>\n",
              "      <td>Copycat (1995)</td>\n",
              "      <td>01-Jan-1995</td>\n",
              "    </tr>\n",
              "  </tbody>\n",
              "</table>\n",
              "</div>"
            ],
            "text/plain": [
              "   movie_id              title release_date\n",
              "0         1   Toy Story (1995)  01-Jan-1995\n",
              "1         2   GoldenEye (1995)  01-Jan-1995\n",
              "2         3  Four Rooms (1995)  01-Jan-1995\n",
              "3         4  Get Shorty (1995)  01-Jan-1995\n",
              "4         5     Copycat (1995)  01-Jan-1995"
            ]
          },
          "execution_count": 34,
          "metadata": {},
          "output_type": "execute_result"
        }
      ],
      "source": [
        "# movies\n",
        "movies.head()\n"
      ]
    },
    {
      "cell_type": "code",
      "execution_count": 35,
      "metadata": {
        "id": "hsekVjevCNKj"
      },
      "outputs": [
        {
          "data": {
            "text/html": [
              "<div>\n",
              "<style scoped>\n",
              "    .dataframe tbody tr th:only-of-type {\n",
              "        vertical-align: middle;\n",
              "    }\n",
              "\n",
              "    .dataframe tbody tr th {\n",
              "        vertical-align: top;\n",
              "    }\n",
              "\n",
              "    .dataframe thead th {\n",
              "        text-align: right;\n",
              "    }\n",
              "</style>\n",
              "<table border=\"1\" class=\"dataframe\">\n",
              "  <thead>\n",
              "    <tr style=\"text-align: right;\">\n",
              "      <th></th>\n",
              "      <th>user_id</th>\n",
              "      <th>age</th>\n",
              "      <th>gender</th>\n",
              "      <th>occupation</th>\n",
              "    </tr>\n",
              "  </thead>\n",
              "  <tbody>\n",
              "    <tr>\n",
              "      <th>0</th>\n",
              "      <td>1</td>\n",
              "      <td>24</td>\n",
              "      <td>M</td>\n",
              "      <td>technician</td>\n",
              "    </tr>\n",
              "    <tr>\n",
              "      <th>1</th>\n",
              "      <td>2</td>\n",
              "      <td>53</td>\n",
              "      <td>F</td>\n",
              "      <td>other</td>\n",
              "    </tr>\n",
              "    <tr>\n",
              "      <th>2</th>\n",
              "      <td>3</td>\n",
              "      <td>23</td>\n",
              "      <td>M</td>\n",
              "      <td>writer</td>\n",
              "    </tr>\n",
              "    <tr>\n",
              "      <th>3</th>\n",
              "      <td>4</td>\n",
              "      <td>24</td>\n",
              "      <td>M</td>\n",
              "      <td>technician</td>\n",
              "    </tr>\n",
              "    <tr>\n",
              "      <th>4</th>\n",
              "      <td>5</td>\n",
              "      <td>33</td>\n",
              "      <td>F</td>\n",
              "      <td>other</td>\n",
              "    </tr>\n",
              "  </tbody>\n",
              "</table>\n",
              "</div>"
            ],
            "text/plain": [
              "   user_id  age gender  occupation\n",
              "0        1   24      M  technician\n",
              "1        2   53      F       other\n",
              "2        3   23      M      writer\n",
              "3        4   24      M  technician\n",
              "4        5   33      F       other"
            ]
          },
          "execution_count": 35,
          "metadata": {},
          "output_type": "execute_result"
        }
      ],
      "source": [
        "# users\n",
        "users.head()\n"
      ]
    },
    {
      "cell_type": "markdown",
      "metadata": {
        "id": "jE5OHLqt7xeq"
      },
      "source": [
        "**Note:** As a **Bonus** task save the `ratings`, `movies` and `users` dataframe created into a `.csv` file format. <br>\n",
        "**Hint:** Use the `to_csv()` function in pandas to save these DataFrames as CSV files."
      ]
    },
    {
      "cell_type": "code",
      "execution_count": 12,
      "metadata": {
        "id": "Chyv3c4n8wVC"
      },
      "outputs": [],
      "source": [
        "# ratings\n",
        "ratings.to_csv(\"ratings.csv\", index=False)\n"
      ]
    },
    {
      "cell_type": "code",
      "execution_count": 13,
      "metadata": {
        "id": "Gl7zVV3y8wKU"
      },
      "outputs": [],
      "source": [
        "# movies\n",
        "movies.to_csv(\"movies.csv\", index=False)\n"
      ]
    },
    {
      "cell_type": "code",
      "execution_count": 14,
      "metadata": {
        "id": "0YwVuebp8u46"
      },
      "outputs": [],
      "source": [
        "# users\n",
        "users.to_csv(\"users.csv\", index=False)\n"
      ]
    },
    {
      "cell_type": "markdown",
      "metadata": {
        "id": "s3S1y82cCYxx"
      },
      "source": [
        "**Display the first 10 rows of each file.**"
      ]
    },
    {
      "cell_type": "code",
      "execution_count": 49,
      "metadata": {
        "id": "x5ZOXTqnCPgw"
      },
      "outputs": [
        {
          "name": "stdout",
          "output_type": "stream",
          "text": [
            "Ratings (First 10 rows):\n",
            "\n",
            "| user_id | movie_id | rating |   timestamp    |\n",
            "|---------|----------|--------|----------------|\n",
            "| 196     | 242      | 3      | 1997-12-04 15:55:49 |\n",
            "| 186     | 302      | 3      | 1998-04-04 19:22:22 |\n",
            "| 22      | 377      | 1      | 1997-11-07 07:18:36 |\n",
            "| 244     | 51       | 2      | 1997-11-27 05:02:03 |\n",
            "| 166     | 346      | 1      | 1998-02-02 05:33:16 |\n",
            "| 298     | 474      | 4      | 1998-01-07 14:20:06 |\n",
            "| 115     | 265      | 2      | 1997-12-03 17:51:28 |\n",
            "| 253     | 465      | 5      | 1998-04-03 18:34:27 |\n",
            "| 305     | 451      | 3      | 1998-02-01 09:20:17 |\n",
            "| 6       | 86       | 3      | 1997-12-31 21:16:53 |\n"
          ]
        }
      ],
      "source": [
        "# ratings\n",
        "print(\"Ratings (First 10 rows):\\n\")\n",
        "print(\"| user_id | movie_id | rating |   timestamp    |\")\n",
        "print(\"|---------|----------|--------|----------------|\")\n",
        "for index, row in ratings.head(10).iterrows():\n",
        "    print(f\"| {str(row['user_id']).ljust(7)} | {str(row['movie_id']).ljust(8)} | {str(row['rating']).ljust(6)} | {str(row['timestamp']).ljust(14)} |\")\n"
      ]
    },
    {
      "cell_type": "code",
      "execution_count": 50,
      "metadata": {
        "id": "AzuqiRkrCdfZ"
      },
      "outputs": [
        {
          "name": "stdout",
          "output_type": "stream",
          "text": [
            "\n",
            "Movies (First 10 rows):\n",
            "\n",
            "| movie_id | title                          | release_date   |\n",
            "|----------|--------------------------------|----------------|\n",
            "| 1        | Toy Story (1995)               | 01-Jan-1995    |\n",
            "| 2        | GoldenEye (1995)               | 01-Jan-1995    |\n",
            "| 3        | Four Rooms (1995)              | 01-Jan-1995    |\n",
            "| 4        | Get Shorty (1995)              | 01-Jan-1995    |\n",
            "| 5        | Copycat (1995)                 | 01-Jan-1995    |\n",
            "| 6        | Shanghai Triad (Yao a yao yao dao waipo qiao) (1995) | 01-Jan-1995    |\n",
            "| 7        | Twelve Monkeys (1995)          | 01-Jan-1995    |\n",
            "| 8        | Babe (1995)                    | 01-Jan-1995    |\n",
            "| 9        | Dead Man Walking (1995)        | 01-Jan-1995    |\n",
            "| 10       | Richard III (1995)             | 22-Jan-1996    |\n"
          ]
        }
      ],
      "source": [
        "# movies\n",
        "print(\"\\nMovies (First 10 rows):\\n\")\n",
        "print(\"| movie_id | title                          | release_date   |\")\n",
        "print(\"|----------|--------------------------------|----------------|\")\n",
        "for index, row in movies.head(10).iterrows():\n",
        "    print(f\"| {str(row['movie_id']).ljust(8)} | {str(row['title']).ljust(30)} | {str(row['release_date']).ljust(14)} |\")\n"
      ]
    },
    {
      "cell_type": "code",
      "execution_count": 51,
      "metadata": {
        "id": "FE9hcM9mCewe"
      },
      "outputs": [
        {
          "name": "stdout",
          "output_type": "stream",
          "text": [
            "\n",
            "Users (First 10 rows):\n",
            "\n",
            "| user_id | age  | gender | occupation          |\n",
            "|---------|------|--------|---------------------|\n",
            "| 1       | 24   | M      | technician           |\n",
            "| 2       | 53   | F      | other                |\n",
            "| 3       | 23   | M      | writer               |\n",
            "| 4       | 24   | M      | technician           |\n",
            "| 5       | 33   | F      | other                |\n",
            "| 6       | 42   | M      | executive            |\n",
            "| 7       | 57   | M      | administrator        |\n",
            "| 8       | 36   | M      | administrator        |\n",
            "| 9       | 29   | M      | student              |\n",
            "| 10      | 53   | M      | lawyer               |\n"
          ]
        }
      ],
      "source": [
        "# users\n",
        "print(\"\\nUsers (First 10 rows):\\n\")\n",
        "print(\"| user_id | age  | gender | occupation          |\")\n",
        "print(\"|---------|------|--------|---------------------|\")\n",
        "for index, row in users.head(10).iterrows():\n",
        "    print(f\"| {str(row['user_id']).ljust(7)} | {str(row['age']).ljust(4)} | {str(row['gender']).ljust(6)} | {str(row['occupation']).ljust(20)} |\")\n"
      ]
    },
    {
      "cell_type": "markdown",
      "metadata": {
        "id": "i38iDIz-DiVj"
      },
      "source": [
        "### Data Cleaning and Exploration with Pandas  \n",
        "\n",
        "After loading the dataset, it’s important to clean and explore the data to ensure consistency and accuracy. Below are key **pandas** functions for cleaning and understanding the dataset.\n",
        "\n",
        "#### 1. Handle Missing Values  \n",
        "- `df.dropna()` – Removes rows with missing values.  \n",
        "- `df.fillna(value)` – Fills missing values with a specified value.  \n",
        "\n",
        "#### 2. Remove Duplicates  \n",
        "- `df.drop_duplicates()` – Drops duplicate rows from the dataset.  \n",
        "\n",
        "#### 3. Handle Incorrect Data Types  \n",
        "- `df.astype(dtype)` – Converts columns to the appropriate data type.  \n",
        "\n",
        "#### 4. Filter Outliers (if applicable)  \n",
        "- `df[df['column_name'] > threshold]` – Filters rows based on a condition.  \n",
        "\n",
        "#### 5. Rename Columns (if needed)  \n",
        "- `df.rename(columns={'old_name': 'new_name'})` – Renames columns for clarity.  \n",
        "\n",
        "#### 6. Reset Index  \n",
        "- `df.reset_index(drop=True, inplace=True)` – Resets the index after cleaning.  \n",
        "\n",
        "### Data Exploration Functions  \n",
        "\n",
        "To better understand the dataset, use these **pandas** functions:  \n",
        "\n",
        "- `df.shape` – Returns the number of rows and columns in the dataset.  \n",
        "- `df.nunique()` – Displays the number of unique values in each column.  \n",
        "- `df['column_name'].unique()` – Returns unique values in a specific column.  \n",
        "\n",
        "**Example Usage in Pandas:**  \n",
        "```python\n",
        "import pandas as pd\n",
        "\n",
        "# Load dataset\n",
        "df = pd.read_csv(\"your_file.csv\")\n",
        "\n",
        "# Drop missing values\n",
        "df_cleaned = df.dropna()\n",
        "\n",
        "# Remove duplicate rows\n",
        "df_cleaned = df_cleaned.drop_duplicates()\n",
        "\n",
        "# Convert 'timestamp' column to datetime format\n",
        "df_cleaned['timestamp'] = pd.to_datetime(df_cleaned['timestamp'])\n",
        "\n",
        "# Display dataset shape\n",
        "print(\"Dataset shape:\", df_cleaned.shape)\n",
        "\n",
        "# Display number of unique values in each column\n",
        "print(\"Unique values per column:\\n\", df_cleaned.nunique())\n",
        "\n",
        "# Display unique movie IDs\n",
        "print(\"Unique movie IDs:\", df_cleaned['movie_id'].unique()[:10])  # Show first 10 unique movie IDs\n"
      ]
    },
    {
      "cell_type": "markdown",
      "metadata": {
        "id": "4cwmLON4EItA"
      },
      "source": [
        "**Note:** The functions mentioned above are some of the widely used **pandas** functions for data cleaning and exploration. However, it is not necessary that all of these functions will be required in the exercises below. Use them as needed based on the dataset and the specific tasks."
      ]
    },
    {
      "cell_type": "markdown",
      "metadata": {
        "id": "Tn0bLOSACxMP"
      },
      "source": [
        "**Convert Timestamps into Readable dates.**"
      ]
    },
    {
      "cell_type": "code",
      "execution_count": 54,
      "metadata": {
        "id": "9MwnDxeeCf8b"
      },
      "outputs": [],
      "source": [
        "# ratings\n",
        "ratings['timestamp'] = pd.to_datetime(ratings['timestamp'], unit='s')\n"
      ]
    },
    {
      "cell_type": "markdown",
      "metadata": {
        "id": "oKJB0a9CE0Z4"
      },
      "source": [
        "**Check for Missing Values**"
      ]
    },
    {
      "cell_type": "code",
      "execution_count": 55,
      "metadata": {
        "id": "iYf4NM47DL7q"
      },
      "outputs": [
        {
          "name": "stdout",
          "output_type": "stream",
          "text": [
            "\n",
            "Missing values in Ratings:\n",
            "\n",
            "| Column     | Missing Values |\n",
            "|------------|----------------|\n",
            "| user_id    | 0              |\n",
            "| movie_id   | 0              |\n",
            "| rating     | 0              |\n",
            "| timestamp  | 0              |\n"
          ]
        }
      ],
      "source": [
        "# ratings\n",
        "print(\"\\nMissing values in Ratings:\\n\")\n",
        "print(\"| Column     | Missing Values |\")\n",
        "print(\"|------------|----------------|\")\n",
        "for column, missing_count in ratings.isnull().sum().items():\n",
        "    print(f\"| {column.ljust(10)} | {str(missing_count).ljust(14)} |\")\n"
      ]
    },
    {
      "cell_type": "code",
      "execution_count": 56,
      "metadata": {
        "id": "hgM78fNaFH2q"
      },
      "outputs": [
        {
          "name": "stdout",
          "output_type": "stream",
          "text": [
            "\n",
            "Missing values in Movies:\n",
            "\n",
            "| Column        | Missing Values |\n",
            "|---------------|----------------|\n",
            "| movie_id        | 0              |\n",
            "| title           | 0              |\n",
            "| release_date    | 1              |\n"
          ]
        }
      ],
      "source": [
        "# movies\n",
        "print(\"\\nMissing values in Movies:\\n\")\n",
        "print(\"| Column        | Missing Values |\")\n",
        "print(\"|---------------|----------------|\")\n",
        "for column, missing_count in movies.isnull().sum().items():\n",
        "    print(f\"| {column.ljust(15)} | {str(missing_count).ljust(14)} |\")"
      ]
    },
    {
      "cell_type": "code",
      "execution_count": 57,
      "metadata": {
        "id": "jE8J_cajFA5n"
      },
      "outputs": [
        {
          "name": "stdout",
          "output_type": "stream",
          "text": [
            "\n",
            "Missing values in Users:\n",
            "\n",
            "| Column     | Missing Values |\n",
            "|------------|----------------|\n",
            "| user_id    | 0              |\n",
            "| age        | 0              |\n",
            "| gender     | 0              |\n",
            "| occupation | 0              |\n"
          ]
        }
      ],
      "source": [
        "# users\n",
        "print(\"\\nMissing values in Users:\\n\")\n",
        "print(\"| Column     | Missing Values |\")\n",
        "print(\"|------------|----------------|\")\n",
        "for column, missing_count in users.isnull().sum().items():\n",
        "    print(f\"| {column.ljust(10)} | {str(missing_count).ljust(14)} |\")"
      ]
    },
    {
      "cell_type": "markdown",
      "metadata": {
        "id": "1WviFe7iFRoQ"
      },
      "source": [
        "**Print the total number of users, movies, and ratings.**"
      ]
    },
    {
      "cell_type": "code",
      "execution_count": 60,
      "metadata": {
        "id": "eR_QgS9aFTPb"
      },
      "outputs": [
        {
          "name": "stdout",
          "output_type": "stream",
          "text": [
            "\n",
            "Dataset Summary:\n",
            "\n",
            "| Dataset       | Total Count |\n",
            "|---------------|-------------|\n",
            "| Total Users   | 943         |\n",
            "| Total Movies  | 1682        |\n",
            "| Total Ratings | 100000      |\n"
          ]
        }
      ],
      "source": [
        "import pandas as pd\n",
        "# Load the datasets\n",
        "ratings = pd.read_csv(\"u.data\", sep='\\t', names=['user_id', 'movie_id', 'rating', 'timestamp'])\n",
        "movies = pd.read_csv(\"u.item\", sep='|', usecols=[0, 1, 2], encoding=\"latin-1\", names=['movie_id', 'title', 'release_date'])\n",
        "users = pd.read_csv(\"u.user\", sep='|', usecols=[0, 1, 2, 3], names=['user_id', 'age', 'gender', 'occupation'])\n",
        "\n",
        "# Calculate totals\n",
        "total_users = users['user_id'].nunique()\n",
        "total_movies = movies['movie_id'].nunique()\n",
        "total_ratings = ratings.shape[0]\n",
        "\n",
        "# Print Dataset Summary in a Clean Table Format\n",
        "print(\"\\nDataset Summary:\\n\")\n",
        "print(\"| Dataset       | Total Count |\")\n",
        "print(\"|---------------|-------------|\")\n",
        "print(f\"| Total Users   | {str(total_users).ljust(11)} |\")\n",
        "print(f\"| Total Movies  | {str(total_movies).ljust(11)} |\")\n",
        "print(f\"| Total Ratings | {str(total_ratings).ljust(11)} |\")\n"
      ]
    },
    {
      "cell_type": "markdown",
      "metadata": {
        "id": "NjxACjUgFwsk"
      },
      "source": [
        "## **Part 2: Collaborative Filtering-Based Recommendation**"
      ]
    },
    {
      "cell_type": "markdown",
      "metadata": {
        "id": "AyeSaLpRGYuC"
      },
      "source": [
        "### **Create a User-Item Matrix**"
      ]
    },
    {
      "cell_type": "markdown",
      "metadata": {
        "id": "3tKsv-7XHRq2"
      },
      "source": [
        "#### Instructions for Creating a User-Movie Rating Matrix"
      ]
    },
    {
      "cell_type": "markdown",
      "metadata": {
        "id": "lLayr0YbH4tB"
      },
      "source": [
        "In this exercise, you will create a user-movie rating matrix using **pandas**. This matrix will represent the ratings that users have given to different movies.\n",
        "\n",
        "1. **Dataset Overview**:  \n",
        "   The dataset has already been loaded. It includes the following key columns:\n",
        "   - `user_id`: The ID of the user.\n",
        "   - `movie_id`: The ID of the movie.\n",
        "   - `ratings`: The rating the user gave to the movie.\n",
        "\n",
        "2. **Create the User-Movie Rating Matrix**:  \n",
        "   Use the **`pivot()`** function in **pandas** to reshape the data. Your goal is to create a matrix where:\n",
        "   - Each **row** represents a **user**.\n",
        "   - Each **column** represents a **movie**.\n",
        "   - Each **cell** contains the **rating** that the user has given to the movie.\n",
        "\n",
        "   Specify the following parameters for the `pivot()` function:\n",
        "   - **`index`**: The `user_id` column (this will define the rows).\n",
        "   - **`columns`**: The `movie_id` column (this will define the columns).\n",
        "   - **`values`**: The `rating` column (this will fill the matrix with ratings).\n",
        "\n",
        "3. **Inspect the Matrix**:  \n",
        "   After creating the matrix, examine the first few rows of the resulting matrix to ensure it has been constructed correctly.\n",
        "\n",
        "4. **Handle Missing Values**:  \n",
        "   It's likely that some users have not rated every movie, resulting in `NaN` values in the matrix. You will need to handle these missing values. Consider the following options:\n",
        "   - **Fill with 0**: If you wish to represent missing ratings as zeros (indicating no rating).\n",
        "   - **Fill with the average rating**: Alternatively, replace missing values with the average rating for each movie."
      ]
    },
    {
      "cell_type": "markdown",
      "metadata": {
        "id": "E_cdPXYeaD-l"
      },
      "source": [
        "**Create the user-movie rating matrix using the `pivot()` function.**"
      ]
    },
    {
      "cell_type": "code",
      "execution_count": 23,
      "metadata": {
        "id": "Ie858yKEUSfc"
      },
      "outputs": [],
      "source": [
        "user_movie_matrix = ratings.pivot(index='user_id', columns='movie_id', values='rating')\n"
      ]
    },
    {
      "cell_type": "markdown",
      "metadata": {
        "id": "tyb3h9FmaVGH"
      },
      "source": [
        "**Display the matrix to verify the transformation.**"
      ]
    },
    {
      "cell_type": "code",
      "execution_count": 61,
      "metadata": {
        "id": "16abaOrXabN_"
      },
      "outputs": [
        {
          "name": "stdout",
          "output_type": "stream",
          "text": [
            "\n",
            "User-Movie Matrix (First 5 rows, 5 columns):\n",
            "\n",
            "| user_id | movie_1 | movie_2 | movie_3 | movie_4 | movie_5 |\n",
            "|---------|---------|---------|---------|---------|---------|\n",
            "| 1       | 5.0      | 3.0      | 4.0      | 3.0      | 3.0      |\n",
            "| 2       | 4.0      | nan      | nan      | nan      | nan      |\n",
            "| 3       | nan      | nan      | nan      | nan      | nan      |\n",
            "| 4       | nan      | nan      | nan      | nan      | nan      |\n",
            "| 5       | 4.0      | 3.0      | nan      | nan      | nan      |\n"
          ]
        }
      ],
      "source": [
        "# User-Movie Matrix (First 5 Rows, 5 Columns)\n",
        "print(\"\\nUser-Movie Matrix (First 5 rows, 5 columns):\\n\")\n",
        "print(\"| user_id | movie_1 | movie_2 | movie_3 | movie_4 | movie_5 |\")\n",
        "print(\"|---------|---------|---------|---------|---------|---------|\")\n",
        "for index, row in user_movie_matrix.iloc[:5, :5].iterrows():\n",
        "    print(f\"| {str(index).ljust(7)} | {str(row.iloc[0]).ljust(8)} | {str(row.iloc[1]).ljust(8)} | {str(row.iloc[2]).ljust(8)} | {str(row.iloc[3]).ljust(8)} | {str(row.iloc[4]).ljust(8)} |\")\n"
      ]
    },
    {
      "cell_type": "markdown",
      "metadata": {
        "id": "fOXp00QSbtHk"
      },
      "source": [
        "### **User-Based Collaborative Filtering Recommender System**"
      ]
    },
    {
      "cell_type": "markdown",
      "metadata": {
        "id": "FwKBZk5Sc7YA"
      },
      "source": [
        "#### **Objective**\n",
        "In this task, you will implement a **user-based collaborative filtering** movie recommendation system using the **Movie dataset**. The goal is to recommend movies to a user based on the preferences of similar users."
      ]
    },
    {
      "cell_type": "markdown",
      "metadata": {
        "id": "fZf-Nu2rdPHR"
      },
      "source": [
        "##### **Step 1: Import Required Libraries**\n",
        "Before starting, ensure you have the necessary libraries installed. Use the following imports:\n",
        "\n",
        "```python\n",
        "import pandas as pd  # For handling data\n",
        "import numpy as np   # For numerical computations\n",
        "from sklearn.metrics.pairwise import cosine_similarity  # For computing user similarity\n",
        "```"
      ]
    },
    {
      "cell_type": "markdown",
      "metadata": {
        "id": "qzJNshMbdwyR"
      },
      "source": [
        "##### **Step 2: Compute User-User Similarity**\n",
        "- We will use **cosine similarity** to measure how similar each pair of users is based on their movie ratings.\n",
        "- Since `cosine_similarity` does not handle missing values (NaN), replace them with `0` before computation."
      ]
    },
    {
      "cell_type": "markdown",
      "metadata": {
        "id": "pkO_XtPqd4Sw"
      },
      "source": [
        "##### **Instructions:**\n",
        "1. Fill missing values with `0` using `.fillna(0)`.\n",
        "2. Compute similarity using `cosine_similarity()`.\n",
        "3. Convert the result into a **Pandas DataFrame**, with users as both row and column labels.\n",
        "\n",
        "##### **Hint:**  \n",
        "You can achieve this using the following approach:\n",
        "\n",
        "```python\n",
        "user_similarity = cosine_similarity(user_movie_matrix.fillna(0))\n",
        "user_sim_df = pd.DataFrame(user_similarity, index=user_movie_matrix.index, columns=user_movie_matrix.index)\n",
        "```"
      ]
    },
    {
      "cell_type": "markdown",
      "metadata": {
        "id": "NtmluaSGeBE-"
      },
      "source": [
        "##### **Step 3: Implement the Recommendation Function**\n",
        "Now, implement the function `recommend_movies_for_user(user_id, num=5)` to recommend movies for a given user.\n",
        "\n",
        "##### **Function Inputs:**\n",
        "- `user_id`: The target user for whom we need recommendations.\n",
        "- `num`: The number of movies to recommend (default is 5).\n",
        "\n",
        "##### **Function Steps:**\n",
        "1. Find **similar users**:\n",
        "   - Retrieve the similarity scores for the given `user_id`.\n",
        "   - Sort them in **descending** order (highest similarity first).\n",
        "   - Exclude the user themselves.\n",
        "   \n",
        "2. Get the **movie ratings** from these similar users.\n",
        "\n",
        "3. Compute the **average rating** for each movie based on these users' preferences.\n",
        "\n",
        "4. Sort the movies in **descending order** based on the computed average ratings.\n",
        "\n",
        "5. Retrieve the **top `num` recommended movies**.\n",
        "\n",
        "6. Map **movie IDs** to their **titles** using the `movies` DataFrame.\n",
        "\n",
        "7. Return the results as a **Pandas DataFrame** with rankings."
      ]
    },
    {
      "cell_type": "markdown",
      "metadata": {
        "id": "SgO0zd8LeGJ_"
      },
      "source": [
        "##### **Step 4: Return the Final Recommendation List**\n",
        "Your function should return a **DataFrame** structured as follows:\n",
        "\n",
        "| Ranking | Movie Name |\n",
        "|---------|-----------|\n",
        "| 1       | Movie A   |\n",
        "| 2       | Movie B   |\n",
        "| 3       | Movie C   |\n",
        "| 4       | Movie D   |\n",
        "| 5       | Movie E   |\n",
        "\n",
        "##### **Hint:** Your final DataFrame should be created like this:\n",
        "```python\n",
        "result_df = pd.DataFrame({\n",
        "    'Ranking': range(1, num+1),\n",
        "    'Movie Name': movie_names     \n",
        "})\n",
        "result_df.set_index('Ranking', inplace=True)\n",
        "```\n",
        "\n",
        "#### **Example: User-Based Collaborative Filtering**\n",
        "```python\n",
        "recommend_movies_for_user(10, num = 5)\n",
        "```\n",
        "**Output:**\n",
        "```\n",
        "| Ranking | Movie Name                     |\n",
        "|---------|--------------------------------|\n",
        "| 1       | In the Company of Men (1997)   |\n",
        "| 2       | Misérables, Les (1995)         |\n",
        "| 3       | Thin Blue Line, The (1988)     |\n",
        "| 4       | Braindead (1992)               |\n",
        "| 5       | Boys, Les (1997)               |\n"
      ]
    },
    {
      "cell_type": "code",
      "execution_count": 62,
      "metadata": {
        "id": "rbENugJ5cUpo"
      },
      "outputs": [
        {
          "name": "stdout",
          "output_type": "stream",
          "text": [
            "\n",
            "Top 5 recommendations for user 196:\n",
            "\n",
            "| Ranking | Movie Name                          |\n",
            "|---------|-------------------------------------|\n",
            "| 1       | They Made Me a Criminal (1939)      |\n",
            "| 2       | Star Kid (1997)                     |\n",
            "| 3       | Saint of Fort Washington, The (1993) |\n",
            "| 4       | Santa with Muscles (1996)           |\n",
            "| 5       | Aiqing wansui (1994)                |\n"
          ]
        }
      ],
      "source": [
        "# Code the function here\n",
        "import pandas as pd\n",
        "import numpy as np\n",
        "from sklearn.metrics.pairwise import cosine_similarity\n",
        "\n",
        "# Compute User-User Similarity\n",
        "user_similarity = cosine_similarity(user_movie_matrix.fillna(0))\n",
        "user_sim_df = pd.DataFrame(user_similarity, index=user_movie_matrix.index, columns=user_movie_matrix.index)\n",
        "\n",
        "def recommend_movies_for_user(user_id, num=5):\n",
        "    \"\"\"\n",
        "    Recommends movies for a given user based on user-based collaborative filtering.\n",
        "\n",
        "    Args:\n",
        "        user_id (int): The ID of the user for whom to recommend movies.\n",
        "        num (int): The number of movies to recommend.\n",
        "\n",
        "    Returns:\n",
        "        pandas.DataFrame: A DataFrame with the top recommended movies and their ranking.\n",
        "    \"\"\"\n",
        "    # Get similarity scores for the user\n",
        "    similar_users = user_sim_df[user_id].sort_values(ascending=False)\n",
        "\n",
        "    # Exclude the user themselves\n",
        "    similar_users = similar_users.drop(user_id)\n",
        "\n",
        "    # Get movie ratings from similar users\n",
        "    movie_ratings = user_movie_matrix.loc[similar_users.index]\n",
        "\n",
        "    # Compute average rating for each movie\n",
        "    avg_ratings = movie_ratings.mean(axis=0).sort_values(ascending=False)\n",
        "\n",
        "    # Get top movies that the user has not rated yet\n",
        "    user_rated_movies = user_movie_matrix.loc[user_id].dropna().index\n",
        "    recommended_movies = avg_ratings[~avg_ratings.index.isin(user_rated_movies)]\n",
        "\n",
        "    # Get top N recommended movies\n",
        "    top_movies = recommended_movies.head(num)\n",
        "\n",
        "    # Map movie IDs to titles\n",
        "    movie_titles = movies[movies['movie_id'].isin(top_movies.index)][['movie_id', 'title']]\n",
        "    movie_titles = movie_titles.set_index('movie_id')\n",
        "\n",
        "    # Create the final recommendation list\n",
        "    recommendations = pd.DataFrame({'Movie Name': movie_titles['title']})\n",
        "    recommendations['Ranking'] = range(1, len(recommendations) + 1)\n",
        "    recommendations = recommendations[['Ranking', 'Movie Name']]\n",
        "\n",
        "    return recommendations\n",
        "\n",
        "# Example usage:\n",
        "user_id = 196  \n",
        "recommendations = recommend_movies_for_user(user_id, num=5)\n",
        "print(f\"\\nTop 5 recommendations for user {user_id}:\\n\")\n",
        "print(\"| Ranking | Movie Name                          |\")\n",
        "print(\"|---------|-------------------------------------|\")\n",
        "for index, row in recommendations.iterrows():\n",
        "    print(f\"| {row['Ranking']}       | {row['Movie Name'].ljust(35)} |\")"
      ]
    },
    {
      "cell_type": "markdown",
      "metadata": {
        "id": "MIN3XqC0eUAu"
      },
      "source": [
        "### **Item-Based Collaborative Filtering Recommender System**"
      ]
    },
    {
      "cell_type": "markdown",
      "metadata": {
        "id": "ytqWK-4ze2aA"
      },
      "source": [
        "#### **Objective**\n",
        "In this task, you will implement an **item-based collaborative filtering** recommendation system using the **Movie dataset**. The goal is to recommend movies similar to a given movie based on user rating patterns."
      ]
    },
    {
      "cell_type": "markdown",
      "metadata": {
        "id": "Q0-HuDvffY57"
      },
      "source": [
        "#### **Step 1: Import Required Libraries**\n",
        "Although we have done this part already in the previous task but just to emphasize the importance reiterrating this part.\n",
        "\n",
        "Before starting, ensure you have the necessary libraries installed. Use the following imports:\n",
        "\n",
        "```python\n",
        "import pandas as pd  # For handling data\n",
        "import numpy as np   # For numerical computations\n",
        "from sklearn.metrics.pairwise import cosine_similarity  # For computing item similarity\n",
        "```"
      ]
    },
    {
      "cell_type": "markdown",
      "metadata": {
        "id": "b9oy7pojf19r"
      },
      "source": [
        "#### **Step 2: Compute Item-Item Similarity**\n",
        "- We will use **cosine similarity** to measure how similar each pair of movies is based on their user ratings.\n",
        "- Since `cosine_similarity` does not handle missing values (NaN), replace them with `0` before computation.\n",
        "- Unlike user-based filtering, we need to **transpose** (`.T`) the `user_movie_matrix` because we want similarity between movies (columns) instead of users (rows).\n",
        "\n",
        "##### **Instructions:**\n",
        "1. Transpose the user-movie matrix using `.T` to make movies the rows.\n",
        "2. Fill missing values with `0` using `.fillna(0)`.\n",
        "3. Compute similarity using `cosine_similarity()`.\n",
        "4. Convert the result into a **Pandas DataFrame**, with movies as both row and column labels.\n",
        "\n",
        "##### **Hint:**  \n",
        "You can achieve this using the following approach:\n",
        "\n",
        "```python\n",
        "item_similarity = cosine_similarity(user_movie_matrix.T.fillna(0))\n",
        "item_sim_df = pd.DataFrame(item_similarity, index=user_movie_matrix.columns, columns=user_movie_matrix.columns)\n",
        "```"
      ]
    },
    {
      "cell_type": "markdown",
      "metadata": {
        "id": "L8k80idUgDWW"
      },
      "source": [
        "#### **Step 3: Implement the Recommendation Function**\n",
        "Now, implement the function `recommend_movies(movie_name, num=5)` to recommend movies similar to a given movie.\n",
        "\n",
        "##### **Function Inputs:**\n",
        "- `movie_name`: The target movie for which we need recommendations.\n",
        "- `num`: The number of similar movies to recommend (default is 5).\n",
        "\n",
        "##### **Function Steps:**\n",
        "1. Find the **movie_id** corresponding to the given `movie_name` in the `movies` DataFrame.\n",
        "2. If the movie is not found, return an appropriate message.\n",
        "3. Extract the **similarity scores** for this movie from `item_sim_df`.\n",
        "4. Sort the movies in **descending order** based on similarity (excluding the movie itself).\n",
        "5. Retrieve the **top `num` similar movies**.\n",
        "6. Map **movie IDs** to their **titles** using the `movies` DataFrame.\n",
        "7. Return the results as a **Pandas DataFrame** with rankings."
      ]
    },
    {
      "cell_type": "markdown",
      "metadata": {
        "id": "kNRZQWQkgLPf"
      },
      "source": [
        "#### **Step 4: Return the Final Recommendation List**\n",
        "Your function should return a **DataFrame** structured as follows:\n",
        "\n",
        "| Ranking | Movie Name |\n",
        "|---------|-----------|\n",
        "| 1       | Movie A   |\n",
        "| 2       | Movie B   |\n",
        "| 3       | Movie C   |\n",
        "| 4       | Movie D   |\n",
        "| 5       | Movie E   |\n",
        "\n",
        "##### **Hint:** Your final DataFrame should be created like this:\n",
        "```python\n",
        "result_df = pd.DataFrame({\n",
        "    'ranking': range(1, num+1),\n",
        "    'movie_name': movie_names\n",
        "})\n",
        "result_df.set_index('ranking', inplace=True)\n",
        "```"
      ]
    },
    {
      "cell_type": "markdown",
      "metadata": {
        "id": "h-EEF0Q1gd9N"
      },
      "source": [
        "#### **Example: Item-Based Collaborative Filtering**\n",
        "```python\n",
        "recommend_movies(\"Jurassic Park (1993)\", num=5)\n",
        "```\n",
        "**Output:**\n",
        "```\n",
        "| Ranking | Movie Name                               |\n",
        "|---------|------------------------------------------|\n",
        "| 1       | Top Gun (1986)                           |\n",
        "| 2       | Empire Strikes Back, The (1980)          |\n",
        "| 3       | Raiders of the Lost Ark (1981)           |\n",
        "| 4       | Indiana Jones and the Last Crusade (1989)|\n",
        "| 5       | Speed (1994)                             |\n"
      ]
    },
    {
      "cell_type": "code",
      "execution_count": 63,
      "metadata": {
        "id": "l1K79akTebWa"
      },
      "outputs": [
        {
          "name": "stdout",
          "output_type": "stream",
          "text": [
            "\n",
            "Top 5 recommendations for movie 1:\n",
            "\n",
            "| Ranking | Movie Name                          |\n",
            "|---------|-------------------------------------|\n",
            "| 1       | Star Wars (1977)                    |\n",
            "| 2       | Rock, The (1996)                    |\n",
            "| 3       | Independence Day (ID4) (1996)       |\n",
            "| 4       | Return of the Jedi (1983)           |\n",
            "| 5       | Mission: Impossible (1996)          |\n"
          ]
        }
      ],
      "source": [
        "# Code the function here\n",
        "import pandas as pd\n",
        "from sklearn.metrics.pairwise import cosine_similarity\n",
        "\n",
        "# Create the movie-user rating matrix using the pivot() function.\n",
        "movie_user_matrix = ratings.pivot(index='movie_id', columns='user_id', values='rating')\n",
        "\n",
        "# Compute Item-Item Similarity\n",
        "movie_similarity = cosine_similarity(movie_user_matrix.fillna(0))\n",
        "movie_sim_df = pd.DataFrame(movie_similarity, index=movie_user_matrix.index, columns=movie_user_matrix.index)\n",
        "\n",
        "def recommend_movies_item_based(movie_id, num=5):\n",
        "    \"\"\"\n",
        "    Recommends movies for a given movie based on item-based collaborative filtering.\n",
        "\n",
        "    Args:\n",
        "        movie_id (int): The ID of the movie for which to recommend movies.\n",
        "        num (int): The number of movies to recommend.\n",
        "\n",
        "    Returns:\n",
        "        pandas.DataFrame: A DataFrame with the top recommended movies and their ranking.\n",
        "    \"\"\"\n",
        "    # Get similarity scores for the movie\n",
        "    similar_movies = movie_sim_df[movie_id].sort_values(ascending=False)\n",
        "\n",
        "    # Exclude the movie itself\n",
        "    similar_movies = similar_movies.drop(movie_id)\n",
        "\n",
        "    # Get top N recommended movies\n",
        "    top_movies = similar_movies.head(num)\n",
        "\n",
        "    # Map movie IDs to titles\n",
        "    movie_titles = movies[movies['movie_id'].isin(top_movies.index)][['movie_id', 'title']]\n",
        "    movie_titles = movie_titles.set_index('movie_id')\n",
        "\n",
        "    # Create the final recommendation list\n",
        "    recommendations = pd.DataFrame({'Movie Name': movie_titles['title']})\n",
        "    recommendations['Ranking'] = range(1, len(recommendations) + 1)\n",
        "    recommendations = recommendations[['Ranking', 'Movie Name']]\n",
        "\n",
        "    return recommendations\n",
        "\n",
        "# Example usage:\n",
        "movie_id = 1  \n",
        "recommendations = recommend_movies_item_based(movie_id, num=5)\n",
        "print(f\"\\nTop 5 recommendations for movie {movie_id}:\\n\")\n",
        "print(\"| Ranking | Movie Name                          |\")\n",
        "print(\"|---------|-------------------------------------|\")\n",
        "for index, row in recommendations.iterrows():\n",
        "    print(f\"| {row['Ranking']}       | {row['Movie Name'].ljust(35)} |\")"
      ]
    },
    {
      "cell_type": "markdown",
      "metadata": {
        "id": "YhZXLz7Rh_VC"
      },
      "source": [
        "## **Part 3: Graph-Based Recommender (Pixie-Inspired Algorithm)**"
      ]
    },
    {
      "cell_type": "markdown",
      "metadata": {
        "id": "u_YceL18lWlN"
      },
      "source": [
        "### **Adjacency List**"
      ]
    },
    {
      "cell_type": "markdown",
      "metadata": {
        "id": "CFF1tUDsipIX"
      },
      "source": [
        "#### **Objective**\n",
        "In this task, you will preprocess the Movie dataset and construct a **graph representation** where:\n",
        "- **Users** are connected to the movies they have rated.\n",
        "- **Movies** are connected to users who have rated them.\n",
        "  \n",
        "This graph structure will help in exploring **user-movie relationships** for recommendations."
      ]
    },
    {
      "cell_type": "markdown",
      "metadata": {
        "id": "-3OPInjhkUzy"
      },
      "source": [
        "#### **Step 1: Merge Ratings with Movie Titles**\n",
        "Since we have **movie IDs** in the ratings dataset but need human-readable movie titles, we will:\n",
        "1. Merge the `ratings` DataFrame with the `movies` DataFrame using the `'movie_id'` column.\n",
        "2. This allows each rating to be associated with a **movie title**.\n",
        "\n",
        "#### **Hint:**\n",
        "Use the following Pandas operation to merge:\n",
        "```python\n",
        "ratings = ratings.merge(movies, on='movie_id')\n",
        "```"
      ]
    },
    {
      "cell_type": "markdown",
      "metadata": {
        "id": "3OPUXyNVkfHr"
      },
      "source": [
        "\n",
        "#### **Step 2: Aggregate Ratings**\n",
        "Since multiple users may rate the same movie multiple times, we:\n",
        "1. Group the dataset by `['user_id', 'movie_id', 'title']`.\n",
        "2. Compute the **mean rating** for each movie by each user.\n",
        "3. Reset the index to ensure we maintain a clean DataFrame structure.\n",
        "\n",
        "#### **Hint:**  \n",
        "Use `groupby()` and `mean()` as follows:\n",
        "```python\n",
        "ratings = ratings.groupby(['user_id', 'movie_id', 'title'])['rating'].mean().reset_index()\n",
        "```"
      ]
    },
    {
      "cell_type": "markdown",
      "metadata": {
        "id": "NU1fB66WkqEO"
      },
      "source": [
        "#### **Step 3: Normalize Ratings**\n",
        "Since different users have different rating biases, we normalize ratings by:\n",
        "1. **Computing each user's mean rating**.\n",
        "2. **Subtracting the mean rating** from each individual rating.\n",
        "\n",
        "#### **Instructions:**\n",
        "- Use `groupby('user_id')` to group ratings by users.\n",
        "- Apply `transform(lambda x: x - x.mean())` to adjust ratings.\n",
        "\n",
        "#### **Hint:**  \n",
        "Normalize ratings using:\n",
        "```python\n",
        "ratings['rating'] = ratings.groupby('user_id')['rating'].transform(lambda x: x - x.mean())\n",
        "```\n",
        "This ensures each user’s ratings are centered around zero, making similarity calculations fairer."
      ]
    },
    {
      "cell_type": "markdown",
      "metadata": {
        "id": "79NB8zIWkvWP"
      },
      "source": [
        "#### **Step 4: Construct the Graph Representation**\n",
        "We represent the user-movie interactions as an **undirected graph** using an **adjacency list**:\n",
        "- Each **user** is a node connected to movies they rated.\n",
        "- Each **movie** is a node connected to users who rated it.\n",
        "\n",
        "#### **Graph Construction Steps:**\n",
        "1. Initialize an empty dictionary `graph = {}`.\n",
        "2. Iterate through the **ratings dataset**.\n",
        "3. For each `user_id` and `movie_id` pair:\n",
        "   - Add the movie to the user’s set of connections.\n",
        "   - Add the user to the movie’s set of connections.\n",
        "\n",
        "#### **Hint:**  \n",
        "The following code builds the graph:\n",
        "\n",
        "```python\n",
        "graph = {}\n",
        "for _, row in ratings.iterrows():\n",
        "    user, movie = row['user_id'], row['movie_id']\n",
        "    if user not in graph:\n",
        "        graph[user] = set()\n",
        "    if movie not in graph:\n",
        "        graph[movie] = set()\n",
        "    graph[user].add(movie)\n",
        "    graph[movie].add(user)\n",
        "```\n",
        "\n",
        "This results in a **bipartite graph**, where:\n",
        "- **Users** are connected to multiple movies.\n",
        "- **Movies** are connected to multiple users."
      ]
    },
    {
      "cell_type": "markdown",
      "metadata": {
        "id": "wEuVgjAAk4KV"
      },
      "source": [
        "#### **Step 5: Understanding the Graph**\n",
        "- **Nodes** in the graph represent **users and movies**.\n",
        "- **Edges** exist between a user and a movie **if the user has rated the movie**.\n",
        "- This structure allows us to find **users with similar movie tastes** and **movies frequently watched together**.\n",
        "\n",
        "#### **Exploring the Graph**\n",
        "- **Find a user’s rated movies:**  \n",
        "  ```python\n",
        "  user_id = 1\n",
        "  print(graph[user_id])  # Movies rated by user 1\n",
        "  ```\n",
        "\n",
        "- **Find users who rated a movie:**  \n",
        "  ```python\n",
        "  movie_id = 50\n",
        "  print(graph[movie_id])  # Users who rated movie 50\n",
        "  ```"
      ]
    },
    {
      "cell_type": "code",
      "execution_count": 65,
      "metadata": {
        "id": "b4V2aL4DiMM4"
      },
      "outputs": [
        {
          "name": "stdout",
          "output_type": "stream",
          "text": [
            "\n",
            "Top 5 graph-based recommendations for user 196:\n",
            "\n",
            "| Ranking | Movie Name                          |\n",
            "|---------|-------------------------------------|\n",
            "| 1       | Raging Bull (1980)                  |\n",
            "| 2       | Eraser (1996)                       |\n",
            "| 3       | Burnt By the Sun (1994)             |\n",
            "| 4       | Happy Gilmore (1996)                |\n",
            "| 5       | Angus (1995)                        |\n"
          ]
        }
      ],
      "source": [
        "# Code the function here\n",
        "import pandas as pd\n",
        "import numpy as np\n",
        "\n",
        "def create_adjacency_list(ratings):\n",
        "    \"\"\"\n",
        "    Creates an adjacency list from the ratings data.\n",
        "\n",
        "    Args:\n",
        "        ratings (pandas.DataFrame): DataFrame with user_id, movie_id, and rating.\n",
        "\n",
        "    Returns:\n",
        "        dict: Adjacency list where keys are movie_ids and values are dictionaries\n",
        "              of connected movie_ids with edge weights (ratings).\n",
        "    \"\"\"\n",
        "    adjacency_list = {}\n",
        "    for _, row in ratings.iterrows():\n",
        "        user_id, movie_id, rating = row['user_id'], row['movie_id'], row['rating']\n",
        "\n",
        "        if movie_id not in adjacency_list:\n",
        "            adjacency_list[movie_id] = {}\n",
        "\n",
        "        # Find other movies rated by the same user\n",
        "        other_movies = ratings[(ratings['user_id'] == user_id) & (ratings['movie_id'] != movie_id)]['movie_id'].tolist()\n",
        "\n",
        "        # Add edges to the adjacency list\n",
        "        for other_movie in other_movies:\n",
        "            if other_movie not in adjacency_list[movie_id]:\n",
        "                adjacency_list[movie_id][other_movie] = rating  # Use rating as edge weight\n",
        "\n",
        "    return adjacency_list\n",
        "\n",
        "def weighted_random_walk(adjacency_list, start_node, walk_length=5, num_walks=10):\n",
        "    \"\"\"\n",
        "    Performs a weighted random walk on the movie graph.\n",
        "\n",
        "    Args:\n",
        "        adjacency_list (dict): Adjacency list representing the movie graph.\n",
        "        start_node (int): The movie_id to start the random walk from.\n",
        "        walk_length (int): The length of each random walk.\n",
        "        num_walks (int): The number of random walks to perform.\n",
        "\n",
        "    Returns:\n",
        "        list: A list of movie_ids visited during the random walks.\n",
        "    \"\"\"\n",
        "    visited_nodes = []\n",
        "    for _ in range(num_walks):\n",
        "        current_node = start_node\n",
        "        for _ in range(walk_length):\n",
        "            neighbors = adjacency_list.get(current_node, {})\n",
        "            if not neighbors:\n",
        "                break\n",
        "\n",
        "            # Calculate probabilities based on edge weights (ratings)\n",
        "            neighbor_nodes, edge_weights = zip(*neighbors.items())\n",
        "            probabilities = np.array(edge_weights) / np.sum(edge_weights)\n",
        "\n",
        "            # Choose the next node based on probabilities\n",
        "            next_node = np.random.choice(neighbor_nodes, p=probabilities)\n",
        "            visited_nodes.append(next_node)\n",
        "            current_node = next_node\n",
        "\n",
        "    return visited_nodes\n",
        "\n",
        "def recommend_movies_graph_based(user_id, ratings, adjacency_list, num=5):\n",
        "    \"\"\"\n",
        "    Recommends movies for a given user based on the Pixie-inspired graph-based algorithm.\n",
        "\n",
        "    Args:\n",
        "        user_id (int): The ID of the user for whom to recommend movies.\n",
        "        ratings (pandas.DataFrame): DataFrame with user_id, movie_id, and rating.\n",
        "        adjacency_list (dict): Adjacency list representing the movie graph.\n",
        "        num (int): The number of movies to recommend.\n",
        "\n",
        "    Returns:\n",
        "        pandas.DataFrame: A DataFrame with the top recommended movies and their ranking.\n",
        "    \"\"\"\n",
        "    # Get movies already rated by the user\n",
        "    rated_movies = ratings[ratings['user_id'] == user_id]['movie_id'].tolist()\n",
        "\n",
        "    # Perform random walks from each movie rated by the user\n",
        "    all_walks = []\n",
        "    for movie in rated_movies:\n",
        "        walks = weighted_random_walk(adjacency_list, movie)\n",
        "        all_walks.extend(walks)\n",
        "\n",
        "    # Count the occurrences of each movie in the random walks\n",
        "    movie_counts = {}\n",
        "    for movie in all_walks:\n",
        "        if movie not in movie_counts:\n",
        "            movie_counts[movie] = 0\n",
        "        movie_counts[movie] += 1\n",
        "\n",
        "    # Sort movies by their counts\n",
        "    sorted_movies = sorted(movie_counts.items(), key=lambda x: x[1], reverse=True)\n",
        "\n",
        "    # Filter out movies already rated by the user\n",
        "    recommended_movies = [movie for movie, _ in sorted_movies if movie not in rated_movies]\n",
        "\n",
        "    # Get top N recommended movies\n",
        "    top_movies = recommended_movies[:num]\n",
        "\n",
        "    # Map movie IDs to titles\n",
        "    movie_titles = movies[movies['movie_id'].isin(top_movies)][['movie_id', 'title']]\n",
        "    movie_titles = movie_titles.set_index('movie_id')\n",
        "\n",
        "    # Create the final recommendation list\n",
        "    recommendations = pd.DataFrame({'Movie Name': movie_titles['title']})\n",
        "    recommendations['Ranking'] = range(1, len(recommendations) + 1)\n",
        "    recommendations = recommendations[['Ranking', 'Movie Name']]\n",
        "\n",
        "    return recommendations\n",
        "\n",
        "# Create adjacency list\n",
        "adjacency_list = create_adjacency_list(ratings)\n",
        "\n",
        "# Example usage:\n",
        "user_id = 196  # Example user ID\n",
        "recommendations = recommend_movies_graph_based(user_id, ratings, adjacency_list, num=5)\n",
        "print(f\"\\nTop 5 graph-based recommendations for user {user_id}:\\n\")\n",
        "print(\"| Ranking | Movie Name                          |\")\n",
        "print(\"|---------|-------------------------------------|\")\n",
        "for index, row in recommendations.iterrows():\n",
        "    print(f\"| {row['Ranking']}       | {row['Movie Name'].ljust(35)} |\")"
      ]
    },
    {
      "cell_type": "markdown",
      "metadata": {
        "id": "_ZE31gB7lImI"
      },
      "source": [
        "### **Implement Weighted Random Walks**"
      ]
    },
    {
      "cell_type": "markdown",
      "metadata": {
        "id": "yHe42rlJl9kD"
      },
      "source": [
        "#### **Random Walk-Based Movie Recommendation System (Weighted Pixie)**"
      ]
    },
    {
      "cell_type": "markdown",
      "metadata": {
        "id": "jyqptwreo-IP"
      },
      "source": [
        "#### **Objective**\n",
        "In this task, you will implement a **random-walk-based recommendation algorithm** using the **Weighted Pixie** method. This technique uses a **user-movie bipartite graph** to recommend movies by simulating a random walk from a given user or movie."
      ]
    },
    {
      "cell_type": "markdown",
      "metadata": {
        "id": "jFgyzzdCpfzu"
      },
      "source": [
        "#### **Step 1: Import Required Libraries**\n",
        "Make sure you have the necessary libraries:\n",
        "\n",
        "```python\n",
        "import random  # For random walks\n",
        "import pandas as pd  # For handling data\n",
        "```"
      ]
    },
    {
      "cell_type": "markdown",
      "metadata": {
        "id": "_FVGjhl0ppFK"
      },
      "source": [
        "#### **Step 2: Implement the Random Walk Algorithm**\n",
        "Your task is to **simulate a random walk** from a given starting point in the **bipartite user-movie graph**.\n",
        "\n",
        "##### **Hints for Implementation**\n",
        "- Start from **either a user or a movie**.\n",
        "- At each step, **randomly move** to a connected node.\n",
        "- Keep track of **how many times each movie is visited**.\n",
        "- After completing the walk, **rank movies by visit count**."
      ]
    },
    {
      "cell_type": "markdown",
      "metadata": {
        "id": "E7D7Pj6trss9"
      },
      "source": [
        "#### **Step 3: Implement User-Based Recommendation**\n",
        "**Hints:**\n",
        "- Check if the `user_id` exists in the `graph`.\n",
        "- Start a loop that runs for `walk_length` steps.\n",
        "- Randomly pick a **connected node** (user or movie).\n",
        "- Track how many times each **movie** is visited.\n",
        "- Sort movies by visit frequency and return the **top N**.\n",
        "\n",
        "#### **Step 4: Implement Movie-Based Recommendation**\n",
        "**Hints:**\n",
        "- Find the `movie_id` corresponding to the given `movie_name`.\n",
        "- Ensure the movie exists in the `graph`.\n",
        "- Start a random walk from that movie.\n",
        "- Follow the same **tracking and ranking** process as the user-based version.\n",
        "\n",
        "**Note:**  \n",
        "**Your task:** Implement a function `weighted_pixie_recommend(user_id, walk_length=15, num=5)` or `weighted_pixie_recommend(movie_name, walk_length=15, num=5)`.  \n",
        "**Implement either Step 3 or Step 4.**"
      ]
    },
    {
      "cell_type": "markdown",
      "metadata": {
        "id": "qxN_ibCCrCpx"
      },
      "source": [
        "#### **Step 5: Running Your Recommendation System**\n",
        "Once your function is implemented, test it by calling:\n",
        "\n",
        "##### **Example: User-Based Recommendation**\n",
        "```python\n",
        "weighted_pixie_recommend(1, walk_length=15, num=5)\n",
        "```\n",
        "| Ranking | Movie Name                     |\n",
        "|---------|--------------------------------|\n",
        "| 1       | My Own Private Idaho (1991)   |\n",
        "| 2       | Aladdin (1992)                |\n",
        "| 3       | 12 Angry Men (1957)           |\n",
        "| 4       | Happy Gilmore (1996)          |\n",
        "| 5       | Copycat (1995)                |\n",
        "\n",
        "\n",
        "##### **Example: Movie-Based Recommendation**\n",
        "```python\n",
        "weighted_pixie_recommend(\"Jurassic Park (1993)\", walk_length=10, num=5)\n",
        "```\n",
        "| Ranking | Movie Name                           |\n",
        "|---------|-------------------------------------|\n",
        "| 1       | Rear Window (1954)                 |\n",
        "| 2       | Great Dictator, The (1940)         |\n",
        "| 3       | Field of Dreams (1989)             |\n",
        "| 4       | Casablanca (1942)                  |\n",
        "| 5       | Nightmare Before Christmas, The (1993) |\n"
      ]
    },
    {
      "cell_type": "markdown",
      "metadata": {
        "id": "ZpUH9IzVr5aQ"
      },
      "source": [
        "#### **Step 6: Understanding the Results**\n",
        "Your function should return a **DataFrame** structured as follows:\n",
        "\n",
        "| Ranking | Movie Name |\n",
        "|---------|-----------|\n",
        "| 1       | Movie A   |\n",
        "| 2       | Movie B   |\n",
        "| 3       | Movie C   |\n",
        "| 4       | Movie D   |\n",
        "| 5       | Movie E   |\n",
        "\n",
        "Each movie is ranked based on **how frequently it was visited** during the walk.\n",
        "\n",
        "#### **Experiment with Different Parameters**\n",
        "- Try different **`walk_length`** values and observe how it changes recommendations.\n",
        "- Adjust the number of recommended movies (`num`)."
      ]
    },
    {
      "cell_type": "code",
      "execution_count": 66,
      "metadata": {
        "id": "tZD5fjG-lx3b"
      },
      "outputs": [
        {
          "name": "stdout",
          "output_type": "stream",
          "text": [
            "Total Users: 943\n",
            "Total Movies: 1682\n",
            "Total Ratings: 100000\n",
            "\n",
            "Random Walk User-Based Recommendations:\n",
            "\n",
            "| Ranking | Movie Name                          |\n",
            "|---------|-------------------------------------|\n",
            "| 1       | Birdcage, The (1996)                |\n",
            "| 2       | Face/Off (1997)                     |\n",
            "| 3       | Mary Poppins (1964)                 |\n",
            "| 4       | Jackie Chan's First Strike (1996)   |\n",
            "| 5       | I Know What You Did Last Summer (1997) |\n",
            "\n",
            "Random Walk Movie-Based Recommendations:\n",
            "\n",
            "| Ranking | Movie Name                          |\n",
            "|---------|-------------------------------------|\n",
            "| 1       | Mr. Holland's Opus (1995)           |\n",
            "| 2       | Star Wars (1977)                    |\n",
            "| 3       | Nixon (1995)                        |\n",
            "| 4       | Pump Up the Volume (1990)           |\n",
            "| 5       | Mother Night (1996)                 |\n"
          ]
        }
      ],
      "source": [
        "# Import Required Libraries\n",
        "import random  # For random walks\n",
        "import pandas as pd  # For handling data\n",
        "import numpy as np  # For numerical computations\n",
        "\n",
        "# Load the datasets\n",
        "ratings = pd.read_csv(\"u.data\", sep='\\t', names=['user_id', 'movie_id', 'rating', 'timestamp'])\n",
        "movies = pd.read_csv(\"u.item\", sep='|', usecols=[0, 1, 2], encoding=\"latin-1\", names=['movie_id', 'title', 'release_date'])\n",
        "\n",
        "# Convert timestamp to readable format\n",
        "ratings['timestamp'] = pd.to_datetime(ratings['timestamp'], unit='s')\n",
        "\n",
        "# Display dataset information\n",
        "print(f\"Total Users: {ratings['user_id'].nunique()}\")\n",
        "print(f\"Total Movies: {movies['movie_id'].nunique()}\")\n",
        "print(f\"Total Ratings: {ratings.shape[0]}\")\n",
        "\n",
        "# Step 1: Create Bipartite Graph\n",
        "def create_graph(ratings):\n",
        "    \"\"\"\n",
        "    Creates a user-movie bipartite graph from the ratings data.\n",
        "\n",
        "    Args:\n",
        "        ratings (pd.DataFrame): DataFrame with user_id, movie_id, and rating.\n",
        "\n",
        "    Returns:\n",
        "        dict: A dictionary representing the graph where keys are user_ids and movie_ids,\n",
        "              and values are sets of connected nodes.\n",
        "    \"\"\"\n",
        "    graph = {}\n",
        "    for _, row in ratings.iterrows():\n",
        "        user_id, movie_id = row['user_id'], row['movie_id']\n",
        "\n",
        "        # Add user node to the graph\n",
        "        if user_id not in graph:\n",
        "            graph[user_id] = set()\n",
        "        graph[user_id].add(movie_id)\n",
        "\n",
        "        # Add movie node to the graph\n",
        "        if movie_id not in graph:\n",
        "            graph[movie_id] = set()\n",
        "        graph[movie_id].add(user_id)\n",
        "\n",
        "    return graph\n",
        "\n",
        "# Step 2: Implement Weighted Random Walk Algorithm\n",
        "def weighted_random_walk(graph, start_node, walk_length=15):\n",
        "    \"\"\"\n",
        "    Performs a weighted random walk on the bipartite user-movie graph.\n",
        "\n",
        "    Args:\n",
        "        graph (dict): Bipartite graph where keys are nodes and values are sets of connected nodes.\n",
        "        start_node (int or str): The starting node for the random walk (user or movie).\n",
        "        walk_length (int): The number of steps to take in the random walk.\n",
        "\n",
        "    Returns:\n",
        "        list: A list of visited movie nodes during the walk.\n",
        "    \"\"\"\n",
        "    visited_movies = []\n",
        "    current_node = start_node\n",
        "\n",
        "    for step in range(walk_length):\n",
        "        neighbors = list(graph.get(current_node, []))\n",
        "        if not neighbors:\n",
        "            break\n",
        "        next_node = random.choice(neighbors)\n",
        "        if isinstance(next_node, int):  # Assuming movie_ids are integers\n",
        "            visited_movies.append(next_node)\n",
        "        current_node = next_node\n",
        "\n",
        "    return visited_movies\n",
        "\n",
        "# Step 3: Implement Recommendation System\n",
        "def weighted_pixie_recommend(graph, start_node, walk_length=15, num=5):\n",
        "    \"\"\"\n",
        "    Implements a recommendation system using weighted random walks.\n",
        "\n",
        "    Args:\n",
        "        graph (dict): Bipartite user-movie graph.\n",
        "        start_node (int or str): The starting node for random walks.\n",
        "        walk_length (int): The number of steps for each random walk.\n",
        "        num (int): Number of recommendations to return.\n",
        "\n",
        "    Returns:\n",
        "        pd.DataFrame: A DataFrame with top N recommended movies.\n",
        "    \"\"\"\n",
        "    if start_node not in graph:\n",
        "        print(f\"Start node {start_node} does not exist in the graph.\")\n",
        "        return pd.DataFrame(columns=['Ranking', 'Movie Name'])\n",
        "\n",
        "    visited_movies = weighted_random_walk(graph, start_node=start_node, walk_length=walk_length)\n",
        "\n",
        "    # Count occurrences of each movie during walks\n",
        "    movie_counts = {}\n",
        "    for movie in visited_movies:\n",
        "        if movie not in movie_counts:\n",
        "            movie_counts[movie] = 0\n",
        "        movie_counts[movie] += 1\n",
        "\n",
        "    # Rank movies by visit frequency\n",
        "    ranked_movies = sorted(movie_counts.items(), key=lambda x: x[1], reverse=True)[:num]\n",
        "    \n",
        "    # Get top N movies and their titles\n",
        "    top_movie_ids = [movie[0] for movie in ranked_movies]\n",
        "    top_movies = movies[movies['movie_id'].isin(top_movie_ids)].set_index('movie_id')\n",
        "    \n",
        "    recommendations = pd.DataFrame({'Ranking': range(1, len(top_movie_ids) + 1), 'Movie Name': top_movies['title']})\n",
        "    \n",
        "    return recommendations\n",
        "\n",
        "# Create bipartite graph from ratings data\n",
        "graph = create_graph(ratings)\n",
        "\n",
        "# Example: User-Based Recommendation\n",
        "recommendations_user_based = weighted_pixie_recommend(graph, start_node=196, walk_length=15, num=5)\n",
        "print(\"\\nRandom Walk User-Based Recommendations:\\n\")\n",
        "print(\"| Ranking | Movie Name                          |\")\n",
        "print(\"|---------|-------------------------------------|\")\n",
        "for index, row in recommendations_user_based.iterrows():\n",
        "    print(f\"| {row['Ranking']}       | {row['Movie Name'].ljust(35)} |\")\n",
        "\n",
        "# Example: Movie-Based Recommendation\n",
        "recommendations_movie_based = weighted_pixie_recommend(graph, start_node=1, walk_length=15, num=5)\n",
        "print(\"\\nRandom Walk Movie-Based Recommendations:\\n\")\n",
        "print(\"| Ranking | Movie Name                          |\")\n",
        "print(\"|---------|-------------------------------------|\")\n",
        "for index, row in recommendations_movie_based.iterrows():\n",
        "    print(f\"| {row['Ranking']}       | {row['Movie Name'].ljust(35)} |\")"
      ]
    },
    {
      "cell_type": "markdown",
      "metadata": {
        "id": "Q36Y2C7PxWO0"
      },
      "source": [
        "---"
      ]
    },
    {
      "cell_type": "markdown",
      "metadata": {
        "id": "9iKlQlvBtiGe"
      },
      "source": [
        "## **Submission Requirements:**"
      ]
    },
    {
      "cell_type": "markdown",
      "metadata": {
        "id": "NHGGedZexPs0"
      },
      "source": [
        "To successfully complete this assignment, ensure that you submit the following:\n",
        "\n",
        "\n",
        "### **1. Jupyter Notebook Submission**\n",
        "- Submit a **fully completed Jupyter Notebook** that includes:\n",
        "  - **All implemented recommendation functions** (user-based, item-based, and random walk-based recommendations).\n",
        "  - **Code explanations** in markdown cells to describe each step.\n",
        "  - **Results and insights** from running your recommendation models.\n",
        "\n",
        "\n",
        "### **2. Explanation of Pixie-Inspired Algorithms (3-5 Paragraphs)**\n",
        "- Write a **detailed explanation** of **Pixie-inspired random walk algorithms** used for recommendations.\n",
        "- Your explanation should cover:\n",
        "  - What **Pixie-inspired recommendation systems** are.\n",
        "  - How **random walks** help in identifying relevant recommendations.\n",
        "  - Any real-world applications of such algorithms in industry.\n",
        "\n",
        "\n",
        "### **3. Report for the Submitted Notebook**\n",
        "Your report should be structured as follows:\n",
        "\n",
        "#### **Title: Movie Recommendation System Report**\n",
        "\n",
        "#### **1. Introduction**\n",
        "- Briefly introduce **movie recommendation systems** and why they are important.\n",
        "- Explain the **different approaches used** (user-based, item-based, random-walk).\n",
        "\n",
        "#### **2. Dataset Description**\n",
        "- Describe the **MovieLens 100K dataset**:\n",
        "  - Number of users, movies, and ratings.\n",
        "  - What features were used.\n",
        "  - Any preprocessing performed.\n",
        "\n",
        "#### **3. Methodology**\n",
        "- Explain the three recommendation techniques implemented:\n",
        "  - **User-based collaborative filtering** (how user similarity was calculated).\n",
        "  - **Item-based collaborative filtering** (how item similarity was determined).\n",
        "  - **Random-walk-based Pixie algorithm** (why graph-based approaches are effective).\n",
        "  \n",
        "#### **4. Implementation Details**\n",
        "- Discuss the steps taken to build the functions.\n",
        "- Describe how the **adjacency list graph** was created.\n",
        "- Explain how **random walks** were performed and how visited movies were ranked.\n",
        "\n",
        "#### **5. Results and Evaluation**\n",
        "- Present **example outputs** from each recommendation approach.\n",
        "- Compare the different methods in terms of accuracy and usefulness.\n",
        "- Discuss any **limitations** in the implementation.\n",
        "\n",
        "#### **6. Conclusion**\n",
        "- Summarize the key takeaways from the project.\n",
        "- Discuss potential improvements (e.g., **hybrid models, additional features**).\n",
        "- Suggest real-world applications of the methods used."
      ]
    },
    {
      "cell_type": "markdown",
      "metadata": {
        "id": "NWgT_Shy-vUK"
      },
      "source": [
        "### **Submission Instructions**"
      ]
    },
    {
      "cell_type": "markdown",
      "metadata": {
        "id": "Nuz1s-Vh_L55"
      },
      "source": [
        "- Submit `.zip` file consisting of Jupyter Notebook and all the datafiles (provided) and the ones saved [i.e. `users.csv`, `movies.csv` and `ratings.csv`]. Also, include the Report and Pixie Algorithm explanation document.\n",
        "- [`Bonus 10 Points`] **Upload your Jupyter Notebook, Explanation Document, and Report** to your GitHub repository.\n",
        "- Ensure the repository is public and contains:\n",
        "  - `users.csv`, `movies.csv` and `ratings.csv` [These are the Dataframes which were created in part 1. Save and export them as a `.csv` file]\n",
        "  - `Movie_Recommendation.ipynb`\n",
        "  - `Pixie_Algorithm_Explanation.pdf` or `.md`\n",
        "  - `Recommendation_Report.pdf` or `.md`\n",
        "- **Submit the GitHub repository link in the cell below.**\n",
        "\n",
        "\n",
        "#### **Example Submission Format**\n",
        "```text\n",
        "GitHub Repository: https://github.com/username/Movie-Recommendation\n",
        "```"
      ]
    },
    {
      "cell_type": "code",
      "execution_count": null,
      "metadata": {
        "id": "jol9nRDau6fZ"
      },
      "outputs": [],
      "source": [
        "# Submit the Github Link here:\n"
      ]
    },
    {
      "cell_type": "markdown",
      "metadata": {
        "id": "oQ6aluK-0ZMa"
      },
      "source": [
        "### **Grading Rubric: ITCS 6162 - Data Mining Assignment**"
      ]
    },
    {
      "cell_type": "markdown",
      "metadata": {
        "id": "sNAfeIzA_fCq"
      },
      "source": [
        "\n",
        "| **Category**                              | **Criteria**                                                     | **Points** |\n",
        "|-------------------------------------------|----------------------------------------------------------------|------------|\n",
        "| **Part 1: Exploring and Cleaning Data (15 pts)**  | Properly loads `u.user`, `u.movies`, and `u.item` datasets into DataFrames | 5 |\n",
        "|                                           | Handles missing values, duplicates, and inconsistencies appropriately | 5 |\n",
        "|                                           | Saves the cleaned datasets into CSV files: `users.csv`, `movies.csv`, `ratings.csv` | 5 |\n",
        "| **Part 2: Collaborative Filtering-Based Recommendation (30 pts)** | Implements user-based collaborative filtering correctly | 10 |\n",
        "|                                           | Implements item-based collaborative filtering correctly | 10 |\n",
        "|                                           | Computes similarity measures accurately and provides valid recommendations | 10 |\n",
        "| **Part 3: Graph-Based Recommender (Pixie-Inspired Algorithm) (35 pts)** | Constructs adjacency lists properly from user-movie interactions | 10 |\n",
        "|                                           | Implements weighted random walk-based recommendation correctly | 15 |\n",
        "|                                           | Explains and justifies the algorithm design choices (Pixie-inspired) | 10 |\n",
        "| **Code Quality & Documentation (10 pts)** | Code is well-structured, efficient, and follows best practices | 5 |\n",
        "|                                           | Markdown explanations and comments are clear and enhance understanding | 5 |\n",
        "| **Results & Interpretation (5 pts)**      | Provides meaningful insights from the recommendation system's output | 5 |\n",
        "| **Submission & Report (5 pts)**          | Submits all required files in the correct format (ZIP file with Jupyter notebook, processed CSV files, and project report) | 5 |\n",
        "| **Total**                                 |                              | 100 |\n",
        "\n",
        "#### **Bonus (10 pts)**\n",
        "| **Category**                              | **Criteria**                                                     | **Points** |\n",
        "|-------------------------------------------|----------------------------------------------------------------|------------|\n",
        "| **GitHub Submission**                     | Provides a well-documented GitHub repository with CSV files, a structured README, and a properly formatted Jupyter Notebook | 10 |"
      ]
    }
  ],
  "metadata": {
    "colab": {
      "collapsed_sections": [
        "NjxACjUgFwsk",
        "AyeSaLpRGYuC",
        "fOXp00QSbtHk",
        "MIN3XqC0eUAu",
        "u_YceL18lWlN",
        "_ZE31gB7lImI",
        "Nuz1s-Vh_L55"
      ],
      "provenance": []
    },
    "kernelspec": {
      "display_name": "Python 3",
      "name": "python3"
    },
    "language_info": {
      "codemirror_mode": {
        "name": "ipython",
        "version": 3
      },
      "file_extension": ".py",
      "mimetype": "text/x-python",
      "name": "python",
      "nbconvert_exporter": "python",
      "pygments_lexer": "ipython3",
      "version": "3.11.2"
    }
  },
  "nbformat": 4,
  "nbformat_minor": 0
}
